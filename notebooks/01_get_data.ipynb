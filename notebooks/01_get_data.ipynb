{
 "cells": [
  {
   "cell_type": "markdown",
   "metadata": {},
   "source": [
    "## Extract data from the Querki  \n",
    "It is bascially rule references for Spirit island board game."
   ]
  },
  {
   "cell_type": "code",
   "execution_count": 1,
   "metadata": {},
   "outputs": [],
   "source": [
    "from scripts import Scraper\n",
    "\n",
    "\n",
    "base_url = \"https://querki.net/u/darker/spirit-island-faq/#!\"\n",
    "home_suffix = \"spirit-island-faq\"\n",
    "\n",
    "xpaths = {\n",
    "    \"errata\": '//*[@id=\"_root\"]/div/div[2]/div/div/div[3]/div/div[3]/ul[1]',\n",
    "    \"tags\": '//*[@id=\"_root\"]/div/div[2]/div/div/div[3]/div/div[3]/ul[2]',\n",
    "    \"content\": '//*[@id=\"_root\"]/div/div[2]/div/div/div[3]/div/div[3]',\n",
    "}"
   ]
  },
  {
   "cell_type": "code",
   "execution_count": 2,
   "metadata": {},
   "outputs": [],
   "source": [
    "scraper = Scraper()\n",
    "url = base_url + home_suffix\n",
    "errata = scraper.scrape(url, xpaths[\"errata\"])"
   ]
  },
  {
   "cell_type": "code",
   "execution_count": 4,
   "metadata": {},
   "outputs": [],
   "source": [
    "errata_urls = [\n",
    "    item.replace(\" \", \"-\")\n",
    "    for item in errata.text.split(\"\\n\")\n",
    "]"
   ]
  },
  {
   "cell_type": "code",
   "execution_count": 5,
   "metadata": {},
   "outputs": [],
   "source": [
    "url = base_url + errata_urls[0]\n",
    "content = scraper.scrape(url, xpaths[\"content\"])"
   ]
  },
  {
   "cell_type": "code",
   "execution_count": 6,
   "metadata": {},
   "outputs": [
    {
     "name": "stdout",
     "output_type": "stream",
     "text": [
      "Here are instructions if you got a playmat without an instruction sheet:\n",
      "What you need to know to use the playmat (most of which boils down to \"it works like you're using the boards\"):\n",
      "The island is still divided into \"boards\" for game-effect purposes. The borders between boards are a bit thicker than the other land boundaries.\n",
      "You make use of one \"board\" per player, just as shown in the core rules. You can put Fear markers into out-of-play lands that border in-play lands, cover over unused boards with decks/supplies, and/or make an actual border-line with unused Presence / pebbles / paperclips - whatever you find easiest.\n",
      "The Ocean on each \"board\" is distinct, just like if you were playing without the playmat. (This is relevant for Ocean's Hungry Grasp.)\n",
      "The northern and southern edges of the island are NOT considered Coastal, just like if you were playing without the playmat. The rocky cliffs which make them inaccessible from the Ocean can be seen along the southern border; the perspective means they're not visible along the north.\n",
      "There are two non-usual Setup icons - [SPIKY ICON] and [GROWING ICON] - for tokens that have not yet been published. Punchboard thematic boards can be updated with stickers or reprinted, but neither option looked especially viable for playmats, so we printed them on there just in case! Omit them from setup. Update August 2020: [SPIKY ICON] is Badlands from Jagged Earth. [GROWING ICON] has not yet been published.\n",
      "REMINDER: The balanced boards are much much better to learn on than the thematic map, which is: more challenging on average, less consistent in its difficulty level, not as easy to parse, and a temptation to start using Branch & Claw materials too soon. (They're best saved until you have moderate familiarity playing the base game.)\n",
      "What you need to know to play with 5-6 players:\n",
      "There are no rules changes per se. In the very unlikely but hypothetically possible case that you empty the Minor Power deck, players cannot gain Minor Powers until/unless someone Forgets one (so there's a deck again). Likewise for the Major Power deck.\n",
      "If you are planning on using the playmat to play with more than 4 players, for the sake of the island and your fun, please do NOT learn Spirit Island this way! You are setting yourself up for a game that is more complex (and more difficult) than is likely be enjoyable for a first play. Spirit Island is best learned with 4 or fewer players on the balanced boards.\n",
      "If you are planning on using two copies of the game to play with more than 4 players, we strongly recommend your first play or two be with 4 or fewer players per game. If 5+ people want to all learn together, we suggest two side-by-side games: this will let everyone use a low-complexity spirit, and keep the visual complexity of each island reasonable. (You can share some of your experience by using identical island layouts + spirits for each game, and seeing where they diverge based on player choice and Invader exploration. You can even use a single Invader deck if everyone's willing to take turns at the pace of the slower game.)\n"
     ]
    }
   ],
   "source": [
    "print(content.text)"
   ]
  },
  {
   "cell_type": "code",
   "execution_count": 7,
   "metadata": {},
   "outputs": [],
   "source": [
    "scraper.terminate()"
   ]
  },
  {
   "cell_type": "markdown",
   "metadata": {},
   "source": [
    "## Retrieve more on the errata content"
   ]
  },
  {
   "cell_type": "code",
   "execution_count": 19,
   "metadata": {},
   "outputs": [],
   "source": [
    "import time \n",
    "\n",
    "\n",
    "def get_content(element, char_for_space: str):\n",
    "    content = {}\n",
    "    for item in element.text.split(\"\\n\"):\n",
    "        try:\n",
    "            url = base_url + item.replace(\" \", char_for_space)\n",
    "            content[item] = scraper.scrape(url, xpaths[\"content\"]).text\n",
    "            time.sleep(2)\n",
    "        except:\n",
    "            url = base_url + \"what-items-are-triggered-actions\"\n",
    "            content[item] = scraper.scrape(url, xpaths[\"content\"]).text\n",
    "    return content"
   ]
  },
  {
   "cell_type": "code",
   "execution_count": 20,
   "metadata": {},
   "outputs": [],
   "source": [
    "scraper = Scraper()\n",
    "url = base_url + home_suffix\n",
    "errata = scraper.scrape(url, xpaths[\"errata\"])\n",
    "errata_content = get_content(errata, \"-\")\n",
    "scraper.terminate()"
   ]
  },
  {
   "cell_type": "code",
   "execution_count": 21,
   "metadata": {},
   "outputs": [
    {
     "data": {
      "text/plain": [
       "{'Playmat instructions': 'Here are instructions if you got a playmat without an instruction sheet:\\nWhat you need to know to use the playmat (most of which boils down to \"it works like you\\'re using the boards\"):\\nThe island is still divided into \"boards\" for game-effect purposes. The borders between boards are a bit thicker than the other land boundaries.\\nYou make use of one \"board\" per player, just as shown in the core rules. You can put Fear markers into out-of-play lands that border in-play lands, cover over unused boards with decks/supplies, and/or make an actual border-line with unused Presence / pebbles / paperclips - whatever you find easiest.\\nThe Ocean on each \"board\" is distinct, just like if you were playing without the playmat. (This is relevant for Ocean\\'s Hungry Grasp.)\\nThe northern and southern edges of the island are NOT considered Coastal, just like if you were playing without the playmat. The rocky cliffs which make them inaccessible from the Ocean can be seen along the southern border; the perspective means they\\'re not visible along the north.\\nThere are two non-usual Setup icons - [SPIKY ICON] and [GROWING ICON] - for tokens that have not yet been published. Punchboard thematic boards can be updated with stickers or reprinted, but neither option looked especially viable for playmats, so we printed them on there just in case! Omit them from setup. Update August 2020: [SPIKY ICON] is Badlands from Jagged Earth. [GROWING ICON] has not yet been published.\\nREMINDER: The balanced boards are much much better to learn on than the thematic map, which is: more challenging on average, less consistent in its difficulty level, not as easy to parse, and a temptation to start using Branch & Claw materials too soon. (They\\'re best saved until you have moderate familiarity playing the base game.)\\nWhat you need to know to play with 5-6 players:\\nThere are no rules changes per se. In the very unlikely but hypothetically possible case that you empty the Minor Power deck, players cannot gain Minor Powers until/unless someone Forgets one (so there\\'s a deck again). Likewise for the Major Power deck.\\nIf you are planning on using the playmat to play with more than 4 players, for the sake of the island and your fun, please do NOT learn Spirit Island this way! You are setting yourself up for a game that is more complex (and more difficult) than is likely be enjoyable for a first play. Spirit Island is best learned with 4 or fewer players on the balanced boards.\\nIf you are planning on using two copies of the game to play with more than 4 players, we strongly recommend your first play or two be with 4 or fewer players per game. If 5+ people want to all learn together, we suggest two side-by-side games: this will let everyone use a low-complexity spirit, and keep the visual complexity of each island reasonable. (You can share some of your experience by using identical island layouts + spirits for each game, and seeing where they diverge based on player choice and Invader exploration. You can even use a single Invader deck if everyone\\'s willing to take turns at the pace of the slower game.)',\n",
       " 'Summary of Action rules': 'This page is so folks can quickly reference \"what\\'s an action?\" without needing to squint at a PDF of the Jagged Earth rulebook (which pins down some systems / nomenclature that was fuzzy in earlier products).\\nActions\\nAn action is a group of game effects that go together and are done as a unit before moving on to something else - for instance:\\nOne use of a Power;\\nA Ravage, Build, or Explore in a single land;\\nA single Growth effect (nearly always \"one icon\");\\nEverything one Fear Card does (†);\\nEverything a Main Event does (†);\\nEverything a Token Event does (†);\\nEverything a Dahan Event does (†);\\nThe effect of the Blighted Island card (†);\\nAn Adversary\\'s Escalation effect (†);\\n(†) = With one important and frequent exception: “Each board” / “Each land” / “Each player” / “Each Spirit” instructions cause one action per qualifying board / land / player / Spirit. So if a Fear card says, \"Each player removes 1 Town/Explorer from an inland land\", every player removing stuff is a separate action.\\nThis replaces the somewhat imprecise “effect” terminology of the core game. It is not intended to change how anything from the core game or Branch & Claw works, though it has a minor impact on how Vengeance of the Dead works, which can no longer trigger itself.\\nMost things that care about the scope of a single action are in Jagged Earth, but with the core game it\\'s relevant for Victory/Defeat (checked after each action), and there are a handful of triggered actions.\\nTriggered Actions\\nA small number of game effects in the core game / Branch & Claw are triggered actions: they happen after any other action that causes certain conditions to be met. From Jagged Earth onwards, these use the phrasing, \"After X, do Y\" or \"The next time that X, do Y\"; this means “After each Action that does X at least once, do Y exactly once”. Material printed earlier frequently doesn\\'t use this exact wording.\\nItems which are triggered actions, along with how those triggers would be specified now:\\nVengeance of the Dead (\"After each action that destroys Town/City/Dahan...\")\\nPortents of Disaster (\"The next time an Invader is destroyed...\")\\nOcean\\'s Hungry Grasp\\'s Oceans In Play special rule. (After Invaders/Dahan are moved to these Oceans, Drown them.\")\\nThunderspeaker\\'s Sworn to Victory special rule. (\"After a Ravage action destroys Dahan...)\\nHeart of the Wildfire\\'s Blazing Presence special rule. (After you add or move Presence post-Setup...\")\\nKeeper of the Forbidden Wilds\\' Forbidden Ground special rule. (\"After you create a Sacred Site...\")\\n(For the most up-to-date list, see this Errata / Clarification.)\\nTriggered actions are associated with whatever set them up, so if Bringer of Dreams & Nightmares uses Vengeance of the Dead, its Special Rule will apply when it triggers.\\nTriggers can go off more than once in a turn, but to avoid infinite loops, triggered actions cannot trigger themselves either directly or indirectly (via actions they themselves trigger).\\nIf a Power sets up a trigger, it only lasts for the current turn, like all Power effects that don\\'t change physical pieces.\\nA non-triggered action can be referred to as a basic action or initial action. (The JE rulebook says \"base action\".)\\nRepeats\\nPowers instructing “Repeat this Power” mean “After resolving this Power and all other actions triggered by it, Repeat it.” This creates another Triggered action.\\nOther ways to Repeat, with instructions like “you may Repeat one Power Card this turn,” create a new basic Action. It may be used any time the Power it’s Repeating could normally be used.\\nModifiers\\nSome game effects modify actions, changing how they work - for instance, Bringer of Dreams and Nightmares\\' special rule To Dream a Thousand Deaths replaces Damage with Fear/Pushing, and Heart of the Wildfire\\'s unique power card Flame\\'s Fury boosts damage. From Jagged Earth onwards, these use the phrasing \"When X then Y\" or \"When X then instead Y\", but material printed earlier frequently doesn\\'t.\\nSkipping Invader Actions (like A Year of Perfect Stillness) is also a form of modification - shorthand for \"When Invaders would act in target land, instead they don\\'t\".\\nModifiers are not actions. They change what actions do.\\nWhat about \"Invader Actions\"?\\nWhat were previously just called “Invader Actions” have several different parts. Using Ravage as an example, there\\'s:\\nRavage Step: the part of the Invader Phase where you resolve all Ravage Cards (possibly zero).\\nRavage Card: one Invader Card under “Ravage”. Resolving a Ravage Card causes one Ravage action in each land that matches the card and has at least one Invader. (You decide order if it matters. Which lands will/won’t have Ravage actions is established now, before any of those Ravage actions actually happen.)\\nRavage Action: a Ravage in a single land. (The whole thing, including Dahan fighting back.)\\nSimilarly, a Build Card causes a Build Action in every land that matches the card and has at least one Invader, and an Explore Card causes an Explore Action in every land that matches the card and is adjacent to a source of Invaders.\\nThe Invaders may do things on the board as a result of Event Cards, Fear Cards, Adversary rules, etc, but unless these cause an Explore, Build, or Ravage, these are not \"Invader Actions\". (So are not prevented by things like A Year of Perfect Stillness or Paralyzing Fright.)\\nPre-Jagged Earth materials obviously don\\'t use this terminology. You can see New Nomenclature Roundup for what the formal wording of older Event cards would be, though none are meant to work any differently.\\nOther details\\nNested Actions\\nA very few situations cause basic actions in the middle of other actions, These are called nested actions. (Eg: Manifest Incarnation (causes a Ravage in the middle of a Power); Blur the Arc of Years (causes a Build and a Ravage in the middle of a Power); Fractured Days Split the Sky\\'s first innate (lets a Spirit use a Power in the middle of its Power); any Blighted Island Card which has an immediate effect when flipped; or a Choice Event that includes a line with \"each board\" or \"each spirit\" instructions.)\\nAside from timing, nested actions work virtually identically to triggered actions: they are not considered \"part of\" the action that caused them, they can trigger actions separately from the thing that caused them, etc. So if Finder of Paths Unseen uses Manifest Incarnation, they\\'re not \"responsible\" for pieces destroyed during the Ravage it causes. The original action is paused, you resolve the nested action (and anything it triggers), then resume the original action where you left off.\\nImportantly, the rule that \"triggered actions cannot trigger themselves even indirectly\" counts nested actions. Example: After Heart of the Wildfire adds a Presence, its Blazing Presence special rule triggers, doing damage + adding blight. The Blight Card flips, revealing Unnatural Proliferation, which causes a number of nested (immediate) actions adding Invaders, Dahan, and Presence. Heart of the Wildfire adds Presence due to this - but because it was (indirectly) caused by Blazing Presence, Blazing Presence does not trigger again.\\nAction Tree\\nThe term \"action tree\" is used in the JE rules, but not formally defined (as used there, it means \"a basic action and everything triggered by it, even indirectly\"). More formally, an action tree is an initial \"basic\" action and all of its immediate consequences (nested/triggered actions), even indirect. (A basic action is something that happens due to the structure of the game. Eg: it\\'s the Fast phase, so you use a Fast Power. Or Invaders Ravage in one land matching a Ravage card. Or you\\'ve drawn a Fear Card, so you perform the Fear Action(s) from it.)\\nThis is most relevant because you only check Victory/Defeat after an entire action tree - e.g., if a Ravage Action adds the last Blight, but you\\'d used Vengeance of the Dead on that land, you get to resolve that triggered action to see if it destroys the last Invaders so that you get a Sacrifice Victory rather than a loss.\\nA deliberately-very-complex example of an action tree: Fractured Days Split the Sky, playing Dahan Insurrection, uses Vengeance of the Dead on a land, then Blur the Arc of Years on that same land. Here\\'s the full action tree for Blur the Arc of Years; each bolded line indicates a separate action:\\nInitial action: Blur the Arc of Years\\n1 Town and 3 Dahan are present, so no Blight is removed\\nNested action: Build - Invaders add 1 City\\nNested action: Ravage - Invaders destroy 2 Dahan; Dahan counterattack destroys 1 Town\\nRavage complete; triggers Military Response (Dahan Insurrection): add 1 Explorer to that land\\nRavage complete; triggers Vengeance of the Dead: 3 Damage, destroying the City\\nVengeance of the Dead complete; triggers Military Response (Dahan Insurrection): add 1 Town to that land\\nVengeance of the Dead does not trigger itself, because triggered actions can\\'t trigger themselves, directly or indirectly\\nAdd 1 Dahan, then Push 2 Dahan\\nBlur the Arc of Years complete; triggers Constant Raiding (Dahan Insurrection): 2 Damage in the land Dahan moved to, destroying a Town there\\nConstant Raiding complete; triggers Military Response (Dahan Insurrection): add 1 Explorer to that land\\nBlur the Arc of Years complete; if its immediate-Repeat option were paid for it would trigger now (and result in further actions) (but this example assumes it\\'s not paid for, the example\\'s long enough already)',\n",
       " 'New Nomenclature Roundup': 'Older game items - particularly Event Cards - use ambiguous terminology around Invader Steps/Cards/Actions and Actions in general.\\nWhere there\\'s confusion, there should be individually targeted FAQs; this page is an overview of all such clarifications.\\nSee also Errata / Clarification on which items are triggered actions.\\nAdversaries\\nFrance lvl 6 - \"After resolving an Explore Card,\"\\nEvents\\nFortification: “After advancing Invader Cards: perform a Build Step for one terrain not shown under any Invader Action”.\\nFarmers Seek the Dahan for Aid: \"The next normal Ravage Card becomes a Build Card (even on a future turn)\"\\nHeavy Farming: \"During the next normal Ravage Card, each Town does +1 Damage.\"\\nMissionaries Arrive: Read the final bullet point as, \"During the next normal Ravage Card, each City does +3 Damage.\"\\nNew Cash Crops Take Hold: \"Immediately perform a Ravage Step for 1 terrain type not shown under any Invader Action. Spirits may prevent this from affecting any/all boards by destroying 2 Presence from each board to be protected.\"\\nRising Interest in the Island: Read \"Return the top card of the Invader deck (skipping cards specially placed)\" bullet point as \"Accelerate the Invader deck.\" (Discard the topmost card of the lowest Stage remaining in the deck, face-down.)\\nUrban Development: \"During the next normal Ravage Card, each City does +2 Damage.\"\\nWave of Reconnaissance: \"Explore Actions add +1 Explorer.\"',\n",
       " 'What older items are triggered actions?': 'Errata / Clarification on which items are triggered actions\\nJagged Earth formalized how triggered actions work. The following earlier items are triggered actions (\"after X, do Y\") even though their wording doesn\\'t use \"after\":\\nVengeance of the Dead (Major Power, core game);\\nOcean In Play (Ocean\\'s Hungry Grasp special rule, core game);\\nSworn to Victory1 (Thunderspeaker special rule, core game);\\nBlazing Presence2 (Heart of the Wildfire special rule, promo 1);\\nConstant Raiding (Dahan Insurrection Scenario rule, core game);\\nMilitary Response (Dahan Insurrection Scenario rule, core game).\\nThe following items are also triggered actions (\"after X, do Y\") even though their wording doesn\\'t use \"after\" (but practically speaking it doesn\\'t matter much):\\nPortents of Disaster (Minor Power - Branch & Claw);\\nForbidden Ground3 (Keeper of the Forbidden Wilds special rule - Branch & Claw);\\nDeep Layers Exposed to the Surface (Stone\\'s Unyielding Defiance special rule - Jagged Earth)\\n1 = The trigger is \"After a Ravage destroys 1 or more Dahan...\" and does not involve Blight; see this FAQ entry for elaboration.\\n2 = This rule used to say \"When you add or move Presence...\". More recent printings of the Spirit correctly say \"After you add or move [Presence] after Setup...\".\\n3 = Read as, \"After one or more lands become a Sacred Site for you, Push all Dahan from those lands.\"\\nSee Summary of Action rules for more details on how triggered actions work in general.\\nAdversary instructions saying \"After Setup:\" are not triggered actions, but just a specification of when that rule applies (\"not during Setup\"). We apologize for the wording overlap, and will be using \"During Play:\" or \"Post-Setup:\" moving forward.\\nProducts: Core game, Branch & Claw, Promo, Jagged Earth - all printings\\nCategory: Effect Rules\\nTags: Triggered Actions, Vengeance of the Dead, Portents of Disaster, Sworn to Victory (Thunderspeaker), Blazing Presence (Heart of the Wildfire), Forbidden Ground (Keeper of the Forbidden Wilds), Dahan Insurrection, Ocean In Play (Ocean\\'s Hungry Grasp), Deep Layers Exposed to the Surface (Stone\\'s Unyielding Defiance)\\nLast modified: Jun 25, 2023 6:19:48 PM'}"
      ]
     },
     "execution_count": 21,
     "metadata": {},
     "output_type": "execute_result"
    }
   ],
   "source": [
    "errata_content"
   ]
  },
  {
   "cell_type": "markdown",
   "metadata": {},
   "source": [
    "## Retrieve content from tags"
   ]
  },
  {
   "cell_type": "code",
   "execution_count": 22,
   "metadata": {},
   "outputs": [],
   "source": [
    "import time \n",
    "\n",
    "\n",
    "def get_content(element, char_for_space: str):\n",
    "    content = {}\n",
    "    for item in element.text.split(\"\\n\"):\n",
    "        url = base_url + item.replace(\" \", char_for_space)\n",
    "        content[item] = scraper.scrape(url, xpaths[\"content\"]).text\n",
    "        time.sleep(2)\n",
    "    return content"
   ]
  },
  {
   "cell_type": "code",
   "execution_count": 23,
   "metadata": {},
   "outputs": [],
   "source": [
    "scraper = Scraper()\n",
    "url = base_url + home_suffix\n",
    "tags = scraper.scrape(url, xpaths[\"tags\"])\n",
    "tags_content = get_content(tags, \"+\")\n",
    "scraper.terminate()"
   ]
  },
  {
   "cell_type": "markdown",
   "metadata": {},
   "source": [
    "## Combine the content and convert to pandas dataframe"
   ]
  },
  {
   "cell_type": "code",
   "execution_count": 24,
   "metadata": {},
   "outputs": [],
   "source": [
    "all_content = [\n",
    "    [item, content, \"errata\"]\n",
    "    for item, content in errata_content.items()\n",
    "]\n",
    "\n",
    "all_content += [\n",
    "    [item, content, \"tags\"]\n",
    "    for item, content in tags_content.items()\n",
    "]"
   ]
  },
  {
   "cell_type": "code",
   "execution_count": 26,
   "metadata": {},
   "outputs": [
    {
     "data": {
      "text/html": [
       "<div>\n",
       "<style scoped>\n",
       "    .dataframe tbody tr th:only-of-type {\n",
       "        vertical-align: middle;\n",
       "    }\n",
       "\n",
       "    .dataframe tbody tr th {\n",
       "        vertical-align: top;\n",
       "    }\n",
       "\n",
       "    .dataframe thead th {\n",
       "        text-align: right;\n",
       "    }\n",
       "</style>\n",
       "<table border=\"1\" class=\"dataframe\">\n",
       "  <thead>\n",
       "    <tr style=\"text-align: right;\">\n",
       "      <th></th>\n",
       "      <th>topic</th>\n",
       "      <th>content</th>\n",
       "      <th>category</th>\n",
       "    </tr>\n",
       "  </thead>\n",
       "  <tbody>\n",
       "    <tr>\n",
       "      <th>0</th>\n",
       "      <td>Playmat instructions</td>\n",
       "      <td>Here are instructions if you got a playmat wit...</td>\n",
       "      <td>errata</td>\n",
       "    </tr>\n",
       "    <tr>\n",
       "      <th>1</th>\n",
       "      <td>Summary of Action rules</td>\n",
       "      <td>This page is so folks can quickly reference \"w...</td>\n",
       "      <td>errata</td>\n",
       "    </tr>\n",
       "    <tr>\n",
       "      <th>2</th>\n",
       "      <td>New Nomenclature Roundup</td>\n",
       "      <td>Older game items - particularly Event Cards - ...</td>\n",
       "      <td>errata</td>\n",
       "    </tr>\n",
       "  </tbody>\n",
       "</table>\n",
       "</div>"
      ],
      "text/plain": [
       "                      topic  \\\n",
       "0      Playmat instructions   \n",
       "1   Summary of Action rules   \n",
       "2  New Nomenclature Roundup   \n",
       "\n",
       "                                             content category  \n",
       "0  Here are instructions if you got a playmat wit...   errata  \n",
       "1  This page is so folks can quickly reference \"w...   errata  \n",
       "2  Older game items - particularly Event Cards - ...   errata  "
      ]
     },
     "execution_count": 26,
     "metadata": {},
     "output_type": "execute_result"
    }
   ],
   "source": [
    "from pandas import DataFrame\n",
    "\n",
    "\n",
    "df = DataFrame(all_content, columns=[\"topic\", \"content\", \"category\"])\n",
    "df.head(3)"
   ]
  },
  {
   "cell_type": "code",
   "execution_count": 27,
   "metadata": {},
   "outputs": [],
   "source": [
    "df.to_csv(\"../data/si_faq.csv\", index=False)"
   ]
  }
 ],
 "metadata": {
  "kernelspec": {
   "display_name": "si-chat-yh1CU4W7-py3.10",
   "language": "python",
   "name": "python3"
  },
  "language_info": {
   "codemirror_mode": {
    "name": "ipython",
    "version": 3
   },
   "file_extension": ".py",
   "mimetype": "text/x-python",
   "name": "python",
   "nbconvert_exporter": "python",
   "pygments_lexer": "ipython3",
   "version": "3.10.14"
  }
 },
 "nbformat": 4,
 "nbformat_minor": 2
}
